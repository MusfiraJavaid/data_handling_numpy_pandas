{
 "cells": [
  {
   "cell_type": "markdown",
   "id": "b14e0f1c",
   "metadata": {},
   "source": [
    "# NumPy_Advanced"
   ]
  },
  {
   "cell_type": "markdown",
   "id": "5243db00",
   "metadata": {},
   "source": [
    "## Quick setup\n",
    "Install (in Colab) and imports"
   ]
  },
  {
   "cell_type": "code",
   "execution_count": null,
   "id": "0efa6940",
   "metadata": {},
   "outputs": [],
   "source": [
    "# In Colab you can run this cell to install missing packages (uncomment if needed)\n",
    "# !pip install numba numpy\n",
    "import numpy as np\n",
    "import time\n",
    "from numba import njit\n",
    "np.__version__"
   ]
  },
  {
   "cell_type": "markdown",
   "id": "cf897143",
   "metadata": {},
   "source": [
    "## Memory layout, views vs copies"
   ]
  },
  {
   "cell_type": "code",
   "execution_count": null,
   "id": "41a310cb",
   "metadata": {},
   "outputs": [],
   "source": [
    "A = np.arange(24).reshape(6,4)\n",
    "print('A flags:', A.flags)\n",
    "view = A[:, :2]\n",
    "copy_part = A[:, :2].copy()\n",
    "print('view base is A?', view.base is A)\n",
    "print('copy base is A?', copy_part.base is A)"
   ]
  },
  {
   "cell_type": "markdown",
   "id": "6b3a00cc",
   "metadata": {},
   "source": [
    "## Broadcasting and advanced vectorized ops"
   ]
  },
  {
   "cell_type": "code",
   "execution_count": null,
   "id": "914e4980",
   "metadata": {},
   "outputs": [],
   "source": [
    "x = np.linspace(0, 2*np.pi, 2000)\n",
    "Y = np.vstack([np.sin(x + phi) for phi in np.linspace(0, 2*np.pi, 80)])\n",
    "means = Y.mean(axis=1, keepdims=True)\n",
    "Yc = Y - means\n",
    "cov = (Yc @ Yc.T) / (Yc.shape[1]-1)\n",
    "print('cov shape:', cov.shape)\n"
   ]
  },
  {
   "cell_type": "markdown",
   "id": "365a2d3e",
   "metadata": {},
   "source": [
    "## memmap example (useful for large arrays)"
   ]
  },
  {
   "cell_type": "code",
   "execution_count": null,
   "id": "77eebec9",
   "metadata": {},
   "outputs": [],
   "source": [
    "# memmap file path in Colab runtime\n",
    "path = '/content/large_array.dat'\n",
    "mm = np.memmap(path, dtype='float32', mode='w+', shape=(10000, 10))\n",
    "mm[0] = np.arange(10)\n",
    "mm.flush()\n",
    "print('wrote memmap to', path)"
   ]
  },
  {
   "cell_type": "markdown",
   "id": "be8fd870",
   "metadata": {},
   "source": [
    "## Numba acceleration example"
   ]
  },
  {
   "cell_type": "code",
   "execution_count": null,
   "id": "5c7cf752",
   "metadata": {},
   "outputs": [],
   "source": [
    "@njit\n",
    "def pairwise_diff_sum(a, b):\n",
    "    n = a.shape[0]\n",
    "    out = np.empty(n)\n",
    "    for i in range(n):\n",
    "        s = 0.0\n",
    "        for j in range(n):\n",
    "            s += abs(a[i] - b[j])\n",
    "        out[i] = s\n",
    "    return out\n",
    "\n",
    "# small test\n",
    "a = np.arange(100).astype(np.float64)\n",
    "b = np.arange(100).astype(np.float64) * 0.5\n",
    "%timeit pairwise_diff_sum(a,b)  # first run will compile\n"
   ]
  }
 ],
 "metadata": {},
 "nbformat": 4,
 "nbformat_minor": 5
}
