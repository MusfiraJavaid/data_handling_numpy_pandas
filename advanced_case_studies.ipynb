{
 "cells": [
  {
   "cell_type": "markdown",
   "id": "e37d1c15",
   "metadata": {},
   "source": [
    "# advanced_case_studies"
   ]
  },
  {
   "cell_type": "markdown",
   "id": "b9153d3c",
   "metadata": {},
   "source": [
    "## Advanced Case Studies — Colab-ready"
   ]
  },
  {
   "cell_type": "markdown",
   "id": "ddfdcf12",
   "metadata": {},
   "source": [
    "### 1) Chunked CSV processing (aggregation without loading all data)"
   ]
  },
  {
   "cell_type": "code",
   "execution_count": null,
   "id": "8288ecb8",
   "metadata": {},
   "outputs": [],
   "source": [
    "# Simulate chunked processing using the sample_data.csv (small example)\n",
    "import pandas as pd\n",
    "agg = {}\n",
    "chunksize = 500\n",
    "for chunk in pd.read_csv('datasets/sample_data.csv', chunksize=chunksize):\n",
    "    chunk['city'] = chunk['city'].astype('category')\n",
    "    g = chunk.groupby('city')['price'].sum()\n",
    "    for k,v in g.items():\n",
    "        agg[k] = agg.get(k, 0) + v\n",
    "agg"
   ]
  },
  {
   "cell_type": "markdown",
   "id": "73f6fb82",
   "metadata": {},
   "source": [
    "### 2) Feature engineering: lag and rolling features for time-series"
   ]
  },
  {
   "cell_type": "code",
   "execution_count": null,
   "id": "1ee572a2",
   "metadata": {},
   "outputs": [],
   "source": [
    "ts = pd.read_csv('datasets/timeseries.csv', parse_dates=['timestamp'], index_col='timestamp')\n",
    "df_ts = ts.copy()\n",
    "df_ts['lag_1'] = df_ts['value'].shift(1)\n",
    "df_ts['rolling_24h_mean'] = df_ts['value'].rolling(window=24).mean()\n",
    "df_ts[['value','lag_1','rolling_24h_mean']].dropna().head()"
   ]
  },
  {
   "cell_type": "markdown",
   "id": "38c68393",
   "metadata": {},
   "source": [
    "### 3) Join optimization note (example)"
   ]
  },
  {
   "cell_type": "code",
   "execution_count": null,
   "id": "c1fcffa0",
   "metadata": {},
   "outputs": [],
   "source": [
    "# Create a fake lookup and join - demonstrate categorical join speedup\n",
    "import pandas as pd\n",
    "left = pd.read_csv('datasets/sample_data.csv', usecols=['id','city','ts'])\n",
    "right = pd.DataFrame({'city': ['Karachi','Lahore'], 'city_code': [1,2]})\n",
    "left['city'] = left['city'].astype('category')\n",
    "right['city'] = right['city'].astype('category')\n",
    "joined = left.merge(right, on='city', how='left')\n",
    "joined.head()"
   ]
  }
 ],
 "metadata": {},
 "nbformat": 4,
 "nbformat_minor": 5
}
