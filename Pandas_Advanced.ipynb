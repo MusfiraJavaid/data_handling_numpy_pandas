{
 "cells": [
  {
   "cell_type": "markdown",
   "id": "7c9080db",
   "metadata": {},
   "source": [
    "# Pandas_Advanced"
   ]
  },
  {
   "cell_type": "markdown",
   "id": "b4f49e6a",
   "metadata": {},
   "source": [
    "## Setup and imports"
   ]
  },
  {
   "cell_type": "code",
   "execution_count": null,
   "id": "9fadcf24",
   "metadata": {},
   "outputs": [],
   "source": [
    "# In Colab you might need to install extras\n",
    "# !pip install pyarrow fastparquet seaborn\n",
    "import pandas as pd\n",
    "import numpy as np\n",
    "import matplotlib.pyplot as plt\n",
    "import seaborn as sns\n",
    "pd.__version__, np.__version__"
   ]
  },
  {
   "cell_type": "markdown",
   "id": "3397743f",
   "metadata": {},
   "source": [
    "## Load sample data"
   ]
  },
  {
   "cell_type": "code",
   "execution_count": null,
   "id": "660fe7fb",
   "metadata": {},
   "outputs": [],
   "source": [
    "df = pd.read_csv('datasets/sample_data.csv', parse_dates=['ts'])\n",
    "df.info(memory_usage='deep')\n",
    "df.head()"
   ]
  },
  {
   "cell_type": "markdown",
   "id": "dfe3acdd",
   "metadata": {},
   "source": [
    "## Categorical optimization and groupby examples"
   ]
  },
  {
   "cell_type": "code",
   "execution_count": null,
   "id": "30e5263c",
   "metadata": {},
   "outputs": [],
   "source": [
    "cat_cols = ['city', 'product']\n",
    "for c in cat_cols:\n",
    "    df[c] = df[c].astype('category')\n",
    "print(df.info(memory_usage='deep'))\n",
    "\n",
    "agg = df.groupby('city')['price'].agg(['count','mean','sum']).reset_index()\n",
    "agg"
   ]
  },
  {
   "cell_type": "markdown",
   "id": "27281a02",
   "metadata": {},
   "source": [
    "## Time-series resample and plotting"
   ]
  },
  {
   "cell_type": "code",
   "execution_count": null,
   "id": "47d00272",
   "metadata": {},
   "outputs": [],
   "source": [
    "ts = pd.read_csv('datasets/timeseries.csv', parse_dates=['timestamp'], index_col='timestamp')\n",
    "monthly = ts['value'].resample('M').sum()\n",
    "rolling_3m = monthly.rolling(window=3).mean()\n",
    "\n",
    "plt.figure(figsize=(10,4))\n",
    "monthly.plot(label='monthly sum')\n",
    "rolling_3m.plot(label='3-month rolling mean')\n",
    "plt.legend(); plt.title('Monthly aggregation and rolling mean')"
   ]
  },
  {
   "cell_type": "markdown",
   "id": "83727f6e",
   "metadata": {},
   "source": [
    "## Visual analysis: sales distribution and top products"
   ]
  },
  {
   "cell_type": "code",
   "execution_count": null,
   "id": "c2fb0a2d",
   "metadata": {},
   "outputs": [],
   "source": [
    "plt.figure(figsize=(8,5))\n",
    "sns.boxplot(x='city', y='price', data=df)\n",
    "plt.title('Price distribution by city')"
   ]
  },
  {
   "cell_type": "markdown",
   "id": "ff549393",
   "metadata": {},
   "source": [
    "## Advanced groupby + transform: rank within groups"
   ]
  },
  {
   "cell_type": "code",
   "execution_count": null,
   "id": "102dd1e1",
   "metadata": {},
   "outputs": [],
   "source": [
    "df['total'] = df['price'] * df['qty']\n",
    "df['rank_in_city'] = df.groupby('city')['total'].rank(method='dense', ascending=False)\n",
    "df[['city','product','total','rank_in_city']].sort_values(['city','rank_in_city']).head(10)"
   ]
  }
 ],
 "metadata": {},
 "nbformat": 4,
 "nbformat_minor": 5
}
